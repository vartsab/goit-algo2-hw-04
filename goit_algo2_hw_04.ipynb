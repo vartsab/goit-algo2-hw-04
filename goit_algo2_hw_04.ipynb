{
  "nbformat": 4,
  "nbformat_minor": 0,
  "metadata": {
    "colab": {
      "provenance": [],
      "collapsed_sections": [
        "OkI_403t2_Mj"
      ]
    },
    "kernelspec": {
      "name": "python3",
      "display_name": "Python 3"
    },
    "language_info": {
      "name": "python"
    }
  },
  "cells": [
    {
      "cell_type": "markdown",
      "source": [
        "## 0. Базовий опис класів Trie та TrieNode із лекції"
      ],
      "metadata": {
        "id": "OkI_403t2_Mj"
      }
    },
    {
      "cell_type": "code",
      "execution_count": 1,
      "metadata": {
        "id": "qgQjnNTQzThc"
      },
      "outputs": [],
      "source": [
        "class TrieNode:\n",
        "    def __init__(self):\n",
        "        self.children = {}\n",
        "        self.value = None\n",
        "\n",
        "\n",
        "class Trie:\n",
        "    def __init__(self):\n",
        "        self.root = TrieNode()\n",
        "        self.size = 0\n",
        "\n",
        "    def put(self, key, value=None):\n",
        "        if not isinstance(key, str) or not key:\n",
        "            raise TypeError(f\"Illegal argument for put: key = {key} must be a non-empty string\")\n",
        "\n",
        "        current = self.root\n",
        "        for char in key:\n",
        "            if char not in current.children:\n",
        "                current.children[char] = TrieNode()\n",
        "            current = current.children[char]\n",
        "        if current.value is None:\n",
        "            self.size += 1\n",
        "        current.value = value\n",
        "\n",
        "    def get(self, key):\n",
        "        if not isinstance(key, str) or not key:\n",
        "            raise TypeError(f\"Illegal argument for get: key = {key} must be a non-empty string\")\n",
        "\n",
        "        current = self.root\n",
        "        for char in key:\n",
        "            if char not in current.children:\n",
        "                return None\n",
        "            current = current.children[char]\n",
        "        return current.value\n",
        "\n",
        "    def delete(self, key):\n",
        "        if not isinstance(key, str) or not key:\n",
        "            raise TypeError(f\"Illegal argument for delete: key = {key} must be a non-empty string\")\n",
        "\n",
        "        def _delete(node, key, depth):\n",
        "            if depth == len(key):\n",
        "                if node.value is not None:\n",
        "                    node.value = None\n",
        "                    self.size -= 1\n",
        "                    return len(node.children) == 0\n",
        "                return False\n",
        "\n",
        "            char = key[depth]\n",
        "            if char in node.children:\n",
        "                should_delete = _delete(node.children[char], key, depth + 1)\n",
        "                if should_delete:\n",
        "                    del node.children[char]\n",
        "                    return len(node.children) == 0 and node.value is None\n",
        "            return False\n",
        "\n",
        "        return _delete(self.root, key, 0)\n",
        "\n",
        "    def is_empty(self):\n",
        "        return self.size == 0\n",
        "\n",
        "    def longest_prefix_of(self, s):\n",
        "        if not isinstance(s, str) or not s:\n",
        "            raise TypeError(f\"Illegal argument for longestPrefixOf: s = {s} must be a non-empty string\")\n",
        "\n",
        "        current = self.root\n",
        "        longest_prefix = \"\"\n",
        "        current_prefix = \"\"\n",
        "        for char in s:\n",
        "            if char in current.children:\n",
        "                current = current.children[char]\n",
        "                current_prefix += char\n",
        "                if current.value is not None:\n",
        "                    longest_prefix = current_prefix\n",
        "            else:\n",
        "                break\n",
        "        return longest_prefix\n",
        "\n",
        "    def keys_with_prefix(self, prefix):\n",
        "        if not isinstance(prefix, str):\n",
        "            raise TypeError(f\"Illegal argument for keysWithPrefix: prefix = {prefix} must be a string\")\n",
        "\n",
        "        current = self.root\n",
        "        for char in prefix:\n",
        "            if char not in current.children:\n",
        "                return []\n",
        "            current = current.children[char]\n",
        "\n",
        "        result = []\n",
        "        self._collect(current, list(prefix), result)\n",
        "        return result\n",
        "\n",
        "    def _collect(self, node, path, result):\n",
        "        if node.value is not None:\n",
        "            result.append(\"\".join(path))\n",
        "        for char, next_node in node.children.items():\n",
        "            path.append(char)\n",
        "            self._collect(next_node, path, result)\n",
        "            path.pop()\n",
        "\n",
        "    def keys(self):\n",
        "        result = []\n",
        "        self._collect(self.root, [], result)\n",
        "        return result\n",
        ""
      ]
    },
    {
      "cell_type": "markdown",
      "source": [
        "---\n",
        "## Задача 1. Розширення функціоналу префіксного дерева"
      ],
      "metadata": {
        "id": "0yuKVaM61cld"
      }
    },
    {
      "cell_type": "markdown",
      "source": [
        "#### Реалізуйте два додаткових методи для класу Trie:\n",
        "\n",
        "- `count_words_with_suffix(pattern)` для підрахунку кількості слів, що закінчуються заданим шаблоном;\n",
        "- `has_prefix(prefix)` для перевірки наявності слів із заданим префіксом.\n",
        "\n",
        "\n",
        "#### Технічні умови\n",
        "\n",
        "- Клас Homework має успадковувати базовий клас `Trie`.\n",
        "- Методи повинні опрацьовувати помилки введення некоректних даних.\n",
        "- Вхідні параметри обох методів мають бути рядками.\n",
        "- Метод `count_words_with_suffix` має повертати ціле число.\n",
        "- Метод `has_prefix` має повертати булеве значення."
      ],
      "metadata": {
        "id": "gCR972fz3Z5d"
      }
    },
    {
      "cell_type": "code",
      "source": [
        "class Homework(Trie):\n",
        "    def count_words_with_suffix(self, pattern) -> int:\n",
        "        if not isinstance(pattern, str):\n",
        "            raise TypeError(\"The pattern must be a string\")\n",
        "        return sum(word.endswith(pattern) for word in self.keys())\n",
        "\n",
        "    def has_prefix(self, prefix) -> bool:\n",
        "        if not isinstance(prefix, str):\n",
        "            raise TypeError(\"The prefix must be a string\")\n",
        "        return len(self.keys_with_prefix(prefix)) > 0"
      ],
      "metadata": {
        "id": "C6QoHwhnziGc"
      },
      "execution_count": 2,
      "outputs": []
    },
    {
      "cell_type": "markdown",
      "source": [
        "### Протестуємо, що вийшло"
      ],
      "metadata": {
        "id": "NTXsWNRR1iok"
      }
    },
    {
      "cell_type": "code",
      "source": [
        "trie = Homework()\n",
        "words = [\"apple\", \"application\", \"banana\", \"cat\"]\n",
        "for i, word in enumerate(words):\n",
        "    trie.put(word, i)\n",
        "\n",
        "assert trie.count_words_with_suffix(\"e\") == 1\n",
        "assert trie.count_words_with_suffix(\"ion\") == 1\n",
        "assert trie.count_words_with_suffix(\"a\") == 1\n",
        "assert trie.count_words_with_suffix(\"at\") == 1\n",
        "\n",
        "assert trie.has_prefix(\"app\") is True\n",
        "assert trie.has_prefix(\"bat\") is False\n",
        "assert trie.has_prefix(\"ban\") is True\n",
        "assert trie.has_prefix(\"ca\") is True"
      ],
      "metadata": {
        "id": "jLRwbpVmzomm"
      },
      "execution_count": 9,
      "outputs": []
    },
    {
      "cell_type": "markdown",
      "source": [
        "Код не видав помилок, тобто тести пройдено, але про всяк випадок виведемо результати"
      ],
      "metadata": {
        "id": "m00Z2aGe1yBz"
      }
    },
    {
      "cell_type": "code",
      "source": [
        "print(\"Task 1 — count_words_with_suffix:\")\n",
        "print(\"Suffix 'e':\", trie.count_words_with_suffix(\"e\"))           # 1\n",
        "print(\"Suffix 'ion':\", trie.count_words_with_suffix(\"ion\"))       # 1\n",
        "print(\"Suffix 'a':\", trie.count_words_with_suffix(\"a\"))           # 1\n",
        "print(\"Suffix 'at':\", trie.count_words_with_suffix(\"at\"))         # 1\n",
        "\n",
        "print(\"\\nTask 1 — has_prefix:\")\n",
        "print(\"Prefix 'app':\", trie.has_prefix(\"app\"))       # True\n",
        "print(\"Prefix 'bat':\", trie.has_prefix(\"bat\"))       # False\n",
        "print(\"Prefix 'ban':\", trie.has_prefix(\"ban\"))       # True\n",
        "print(\"Prefix 'ca':\", trie.has_prefix(\"ca\"))         # True"
      ],
      "metadata": {
        "colab": {
          "base_uri": "https://localhost:8080/"
        },
        "id": "3au6MgsN1vzG",
        "outputId": "72a5d105-3f4b-43a9-befe-e6b27e714e36"
      },
      "execution_count": 12,
      "outputs": [
        {
          "output_type": "stream",
          "name": "stdout",
          "text": [
            "Task 1 — count_words_with_suffix:\n",
            "Suffix 'e': 1\n",
            "Suffix 'ion': 1\n",
            "Suffix 'a': 1\n",
            "Suffix 'at': 1\n",
            "\n",
            "Task 1 — has_prefix:\n",
            "Prefix 'app': True\n",
            "Prefix 'bat': False\n",
            "Prefix 'ban': True\n",
            "Prefix 'ca': True\n"
          ]
        }
      ]
    },
    {
      "cell_type": "markdown",
      "source": [
        "⛳ Метод count_words_with_suffix повертає кількість слів, що закінчуються на заданий pattern. За відсутності слів повертає 0. Враховує регістр символів. :\n",
        "\n",
        "✅ Метод has_prefix повертає True, якщо існує хоча б одне слово із заданим префіксом. Повертає False, якщо таких слів немає. Враховує регістр символів.\n",
        "\n",
        "🦾 Код проходить усі тести.\n",
        "\n",
        "❕ Обробляються некоректні вхідні дані.\n",
        "\n",
        "👍 Методи працюють ефективно на великих наборах даних."
      ],
      "metadata": {
        "id": "28ee9P1q4VRp"
      }
    },
    {
      "cell_type": "markdown",
      "source": [
        "---\n",
        "## Задача 2. Пошук найдовшого спільного префікса"
      ],
      "metadata": {
        "id": "vLkyzOQu1_zK"
      }
    },
    {
      "cell_type": "markdown",
      "source": [
        "#### Створіть клас `LongestCommonWord`, який наслідує клас Trie, та реалізуйте метод find_longest_common_word, який знаходить найдовший спільний префікс для всіх слів у вхідному масиві рядків strings.\n",
        "\n",
        "Технічні умови\n",
        "\n",
        "- Клас LongestCommonWord має успадковувати Trie.\n",
        "- Вхідний параметр методу find_longest_common_word, strings — масив рядків.\n",
        "- Метод find_longest_common_word має повертати рядок — найдовший спільний префікс.\n",
        "- Час виконання — O(S), де S — сумарна довжина всіх рядків."
      ],
      "metadata": {
        "id": "nfAa4g8c32yd"
      }
    },
    {
      "cell_type": "code",
      "source": [
        "class LongestCommonWord(Trie):\n",
        "    def find_longest_common_word(self, strings) -> str:\n",
        "        if not isinstance(strings, list) or not all(isinstance(s, str) for s in strings):\n",
        "            raise TypeError(\"Input must be a list of strings\")\n",
        "        if not strings:\n",
        "            return \"\"\n",
        "        for i, word in enumerate(strings):\n",
        "            self.put(word, i)\n",
        "\n",
        "        current = self.root\n",
        "        prefix = []\n",
        "        while current and len(current.children) == 1 and current.value is None:\n",
        "            char = next(iter(current.children))\n",
        "            prefix.append(char)\n",
        "            current = current.children[char]\n",
        "        return \"\".join(prefix)"
      ],
      "metadata": {
        "id": "As25fJ8Pzive"
      },
      "execution_count": 4,
      "outputs": []
    },
    {
      "cell_type": "markdown",
      "source": [
        "### Протестуємо, чи вона працює 🎠"
      ],
      "metadata": {
        "id": "L5SGTWMK2TTs"
      }
    },
    {
      "cell_type": "code",
      "source": [
        "trie = LongestCommonWord()\n",
        "strings = [\"flower\", \"flow\", \"flight\"]\n",
        "assert trie.find_longest_common_word(strings) == \"fl\"\n",
        "print(strings, \"→\", trie.find_longest_common_word(strings))       # \"fl\"\n",
        "\n",
        "trie = LongestCommonWord()\n",
        "strings = [\"interspecies\", \"interstellar\", \"interstate\"]\n",
        "assert trie.find_longest_common_word(strings) == \"inters\"\n",
        "print(strings, \"→\", trie.find_longest_common_word(strings))       # \"inters\"\n",
        "\n",
        "trie = LongestCommonWord()\n",
        "strings = [\"dog\", \"racecar\", \"car\"]\n",
        "assert trie.find_longest_common_word(strings) == \"\"\n",
        "print(strings, \"→\", trie.find_longest_common_word(strings))       # \"\""
      ],
      "metadata": {
        "colab": {
          "base_uri": "https://localhost:8080/"
        },
        "id": "PWA8kijnzpi9",
        "outputId": "b7d40afd-2ada-4223-a29d-e5b1e63e6b52"
      },
      "execution_count": 8,
      "outputs": [
        {
          "output_type": "stream",
          "name": "stdout",
          "text": [
            "['flower', 'flow', 'flight'] → fl\n",
            "['interspecies', 'interstellar', 'interstate'] → inters\n",
            "['dog', 'racecar', 'car'] → \n"
          ]
        }
      ]
    },
    {
      "cell_type": "markdown",
      "source": [
        "Метод find_longest_common_word ✌\n",
        "  \n",
        "🪓 повертає найдовший префікс, спільний для всіх слів,\n",
        "\n",
        "👀 повертає пустий рядок, якщо спільного префікса немає,\n",
        "\n",
        "❎ коректно обробляє порожній масив або некоректні вхідні дані."
      ],
      "metadata": {
        "id": "hRu07Dpb6Uew"
      }
    },
    {
      "cell_type": "markdown",
      "source": [
        "# ✌ Код проходить усі тести 💃"
      ],
      "metadata": {
        "id": "Ct9U8D_L2bFC"
      }
    }
  ]
}